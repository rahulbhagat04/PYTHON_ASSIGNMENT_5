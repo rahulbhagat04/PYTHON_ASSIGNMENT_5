{
 "cells": [
  {
   "cell_type": "code",
   "execution_count": 1,
   "id": "4d470e42-4519-4c10-9a97-5d2cbe115f78",
   "metadata": {},
   "outputs": [],
   "source": [
    "# Q3. What is multiple inheritance? Write a python code to demonstrate multiple inheritance."
   ]
  },
  {
   "cell_type": "code",
   "execution_count": 6,
   "id": "0c29db18-3a49-4a1a-a134-1231001f9919",
   "metadata": {},
   "outputs": [],
   "source": [
    "# When a class is derived from more than one base class it is called multiple Inheritance.\n",
    "# The derived class inherits all the features of the base case.\n",
    "# syntax:\n",
    "# Class Base1:\n",
    "#        Body of the class\n",
    "\n",
    "# Class Base2:\n",
    "#      Body of the class\n",
    "\n",
    "# Class Derived(Base1, Base2):\n",
    "#      Body of the class\n",
    " "
   ]
  },
  {
   "cell_type": "code",
   "execution_count": 46,
   "id": "aba03d62-a79e-41a2-951a-35b7c6d652dc",
   "metadata": {},
   "outputs": [],
   "source": [
    "class father:\n",
    "    def father_details(self,f_name,f_age):\n",
    "        self.f_name=f_name\n",
    "        self.f_age=f_age  \n",
    "        \n",
    "    def show_f_details(self):\n",
    "        print(\"name of father = \", self.f_name)\n",
    "        print(\"age of father = \", self.f_age)"
   ]
  },
  {
   "cell_type": "code",
   "execution_count": 47,
   "id": "28708868-f25a-42c6-a7e9-489e5412f168",
   "metadata": {},
   "outputs": [],
   "source": [
    "class mother:\n",
    "    def mother_details(self,m_name,m_age):\n",
    "        self.m_name=m_name\n",
    "        self.m_age=m_age\n",
    "        \n",
    "    def show_m_details(self):\n",
    "        print(\"name of mother = \", self.m_name)\n",
    "        print(\"age of mother = \", self.m_age)"
   ]
  },
  {
   "cell_type": "code",
   "execution_count": 48,
   "id": "b136722b-ccbd-4b9f-980b-90ffe9def334",
   "metadata": {},
   "outputs": [],
   "source": [
    "class child(father,mother):\n",
    "    def child_details(self,c_name,c_age):\n",
    "        self.c_name=c_name\n",
    "        self.c_age=c_age\n",
    "    \n",
    "    def show_details(self):\n",
    "        print(\"name of child = \", self.c_name)\n",
    "        print(\"age of child = \", self.c_age)"
   ]
  },
  {
   "cell_type": "code",
   "execution_count": 50,
   "id": "0cb3e907-7a32-49e7-a9bb-5a55d709b36d",
   "metadata": {},
   "outputs": [],
   "source": [
    "obj= child()"
   ]
  },
  {
   "cell_type": "code",
   "execution_count": 51,
   "id": "80e871d9-96a1-4843-bb3e-89cf291b330a",
   "metadata": {},
   "outputs": [],
   "source": [
    "obj.father_details(\"ram naresh bhagat\",66)"
   ]
  },
  {
   "cell_type": "code",
   "execution_count": 52,
   "id": "6f5c8be4-be2f-4cc2-9bb4-8abd301256fb",
   "metadata": {},
   "outputs": [],
   "source": [
    "obj.mother_details(\"pratima bhagat\", 60)"
   ]
  },
  {
   "cell_type": "code",
   "execution_count": 53,
   "id": "c1a8d6e8-ca2e-470d-bf9b-787fb330d248",
   "metadata": {},
   "outputs": [],
   "source": [
    "obj.child_details(\"rahul bhagat\",23)"
   ]
  },
  {
   "cell_type": "code",
   "execution_count": 54,
   "id": "c8128c8a-47ea-4ca2-af1d-31182b58958f",
   "metadata": {},
   "outputs": [
    {
     "name": "stdout",
     "output_type": "stream",
     "text": [
      "name of father =  ram naresh bhagat\n",
      "age of father =  66\n"
     ]
    }
   ],
   "source": [
    "obj.show_f_details()"
   ]
  },
  {
   "cell_type": "code",
   "execution_count": 55,
   "id": "8554a9db-4041-4b29-bf3b-a45fc9a97ec7",
   "metadata": {},
   "outputs": [
    {
     "name": "stdout",
     "output_type": "stream",
     "text": [
      "name of mother =  pratima bhagat\n",
      "age of mother =  60\n"
     ]
    }
   ],
   "source": [
    "obj.show_m_details()"
   ]
  },
  {
   "cell_type": "code",
   "execution_count": 44,
   "id": "95f4459d-5757-476d-9935-ac496bdb7d05",
   "metadata": {},
   "outputs": [
    {
     "name": "stdout",
     "output_type": "stream",
     "text": [
      "name of child =  rahul bhagat\n",
      "age of child =  23\n"
     ]
    }
   ],
   "source": [
    "obj.show_details()"
   ]
  },
  {
   "cell_type": "code",
   "execution_count": null,
   "id": "8be87a26-8982-4321-8fba-0027120edad9",
   "metadata": {},
   "outputs": [],
   "source": []
  }
 ],
 "metadata": {
  "kernelspec": {
   "display_name": "Python 3 (ipykernel)",
   "language": "python",
   "name": "python3"
  },
  "language_info": {
   "codemirror_mode": {
    "name": "ipython",
    "version": 3
   },
   "file_extension": ".py",
   "mimetype": "text/x-python",
   "name": "python",
   "nbconvert_exporter": "python",
   "pygments_lexer": "ipython3",
   "version": "3.10.8"
  }
 },
 "nbformat": 4,
 "nbformat_minor": 5
}
