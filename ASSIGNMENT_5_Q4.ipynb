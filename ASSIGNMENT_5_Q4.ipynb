{
 "cells": [
  {
   "cell_type": "code",
   "execution_count": 1,
   "id": "66c5aaa5-a6cc-439e-90bf-25f44c95f083",
   "metadata": {},
   "outputs": [],
   "source": [
    "#Q4. What are getter and setter in python? Create a class and create a getter and a setter method in this\n",
    "#    class."
   ]
  },
  {
   "cell_type": "code",
   "execution_count": 2,
   "id": "13e2bf3e-45bb-4382-bde7-5588d953011b",
   "metadata": {},
   "outputs": [],
   "source": [
    "# getters and setters are methods used to access and modify the values of class attributes,\n",
    "# providing an interface to interact with the attributes while controlling the access and modification logic.\n",
    "# Getters are used to retrieve the values of attributes, \n",
    "# while setters are used to modify or set the values of attributes.\n"
   ]
  },
  {
   "cell_type": "code",
   "execution_count": 12,
   "id": "25a878be-b065-4608-b35d-07b2d9bd247f",
   "metadata": {},
   "outputs": [],
   "source": [
    "class Person:\n",
    "    def __init__(self, name):\n",
    "        self._name = name\n",
    "\n",
    "    def get_name(self):     # The getter method, get_name(), allows retrieving the value of _name\n",
    "        return self._name\n",
    "\n",
    "    def set_name(self, new_name):      # the setter method, set_name(), allows modifying the value of _name\n",
    "        self._name = new_name"
   ]
  },
  {
   "cell_type": "code",
   "execution_count": 5,
   "id": "c2034ada-36f1-495e-8790-f16d5514b613",
   "metadata": {},
   "outputs": [],
   "source": [
    "obj=Person(\"rahul\")"
   ]
  },
  {
   "cell_type": "code",
   "execution_count": 11,
   "id": "e5c622f6-7e0e-43eb-b26a-f9261435bbf5",
   "metadata": {},
   "outputs": [
    {
     "data": {
      "text/plain": [
       "'tanya'"
      ]
     },
     "execution_count": 11,
     "metadata": {},
     "output_type": "execute_result"
    }
   ],
   "source": [
    "obj.get_name()      # The getter method, get_name(), allows retrieving the value of _name"
   ]
  },
  {
   "cell_type": "code",
   "execution_count": 10,
   "id": "ff72efac-386c-4988-929e-a493af83ae2e",
   "metadata": {},
   "outputs": [],
   "source": [
    "obj.set_name(\"tanya\")     # the setter method, set_name(), allows modifying the value of _name"
   ]
  },
  {
   "cell_type": "code",
   "execution_count": 9,
   "id": "ebd6e39e-d30b-41eb-b42b-62506de1d07d",
   "metadata": {},
   "outputs": [
    {
     "data": {
      "text/plain": [
       "'tanya'"
      ]
     },
     "execution_count": 9,
     "metadata": {},
     "output_type": "execute_result"
    }
   ],
   "source": [
    "obj.get_name()"
   ]
  },
  {
   "cell_type": "code",
   "execution_count": null,
   "id": "ba4f4bfc-3c45-4484-9f9d-d7d8793e2cb9",
   "metadata": {},
   "outputs": [],
   "source": []
  }
 ],
 "metadata": {
  "kernelspec": {
   "display_name": "Python 3 (ipykernel)",
   "language": "python",
   "name": "python3"
  },
  "language_info": {
   "codemirror_mode": {
    "name": "ipython",
    "version": 3
   },
   "file_extension": ".py",
   "mimetype": "text/x-python",
   "name": "python",
   "nbconvert_exporter": "python",
   "pygments_lexer": "ipython3",
   "version": "3.10.8"
  }
 },
 "nbformat": 4,
 "nbformat_minor": 5
}
