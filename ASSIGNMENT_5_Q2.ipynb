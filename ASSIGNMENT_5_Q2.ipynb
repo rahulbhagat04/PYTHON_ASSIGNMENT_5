{
 "cells": [
  {
   "cell_type": "code",
   "execution_count": 1,
   "id": "a7d2f2db-8e76-4f61-994f-854eb460e758",
   "metadata": {},
   "outputs": [],
   "source": [
    "# Q2. Create a child class car from the vehicle class created in Que 1, which will inherit the vehicle class.\n",
    "#     Create a method named seating_capacity which takes capacity as an argument and returns the name of\n",
    "#     the vehicle and its seating capacity."
   ]
  },
  {
   "cell_type": "code",
   "execution_count": 3,
   "id": "cfeb1c66-11ad-422a-9531-887c14c2a355",
   "metadata": {},
   "outputs": [],
   "source": [
    "class vehicle:\n",
    "    def __init__(self,name_of_vehicle, max_speed,average_of_vehicle):\n",
    "        self.name_of_vehicle=name_of_vehicle\n",
    "        self.max_speed=max_speed\n",
    "        self.average_of_vehicle=average_of_vehicle"
   ]
  },
  {
   "cell_type": "code",
   "execution_count": 7,
   "id": "a3f8059e-abb2-4774-a36c-691bd6dd93e1",
   "metadata": {},
   "outputs": [],
   "source": [
    "class car(vehicle):\n",
    "    def seating_capacity(self, capacity):\n",
    "        return f\"{self.name_of_vehicle} has {capacity} seating capacity\" "
   ]
  },
  {
   "cell_type": "code",
   "execution_count": 9,
   "id": "cfa45b4f-5fab-4df2-bc0f-96351f9ba8ae",
   "metadata": {},
   "outputs": [],
   "source": [
    "a=car(\"nexon\",120,15)"
   ]
  },
  {
   "cell_type": "code",
   "execution_count": 10,
   "id": "9d963794-03cf-4546-a9cc-579d5664da36",
   "metadata": {},
   "outputs": [
    {
     "data": {
      "text/plain": [
       "'nexon has 5 seating capacity'"
      ]
     },
     "execution_count": 10,
     "metadata": {},
     "output_type": "execute_result"
    }
   ],
   "source": [
    "a.seating_capacity(5)"
   ]
  },
  {
   "cell_type": "code",
   "execution_count": null,
   "id": "064d05df-8e65-4045-847b-08cd9dea5bc0",
   "metadata": {},
   "outputs": [],
   "source": []
  }
 ],
 "metadata": {
  "kernelspec": {
   "display_name": "Python 3 (ipykernel)",
   "language": "python",
   "name": "python3"
  },
  "language_info": {
   "codemirror_mode": {
    "name": "ipython",
    "version": 3
   },
   "file_extension": ".py",
   "mimetype": "text/x-python",
   "name": "python",
   "nbconvert_exporter": "python",
   "pygments_lexer": "ipython3",
   "version": "3.10.8"
  }
 },
 "nbformat": 4,
 "nbformat_minor": 5
}
