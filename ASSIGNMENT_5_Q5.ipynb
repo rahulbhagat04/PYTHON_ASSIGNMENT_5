{
 "cells": [
  {
   "cell_type": "code",
   "execution_count": 1,
   "id": "cc908cfd-c47b-4024-a3f3-117804c9c83c",
   "metadata": {},
   "outputs": [],
   "source": [
    "#Q5.What is method overriding in python? Write a python code to demonstrate method overriding."
   ]
  },
  {
   "cell_type": "code",
   "execution_count": 2,
   "id": "617d3d4b-0acd-4fd9-af24-6ce6d8296d31",
   "metadata": {},
   "outputs": [],
   "source": [
    "# Method overriding is a concept in object-oriented programming where a subclass provides its own implementation of a\n",
    "# method that is already defined in its parent class. This allows the subclass to override or modify the behavior of\n",
    "# the inherited method.\n",
    "\n",
    "# In Python, method overriding is achieved by defining a method in the subclass with the same name as the method in\n",
    "# the parent class. When the method is called on an object of the subclass, the overridden method in the subclass is \n",
    "# executed instead of the method in the parent class."
   ]
  },
  {
   "cell_type": "code",
   "execution_count": 3,
   "id": "7ca99292-87f3-4fef-b42b-a13c0c2f21c5",
   "metadata": {},
   "outputs": [],
   "source": [
    "class Vehicle:\n",
    "    def display_info(self):\n",
    "        print(\"This is a vehicle.\")"
   ]
  },
  {
   "cell_type": "code",
   "execution_count": 4,
   "id": "e4894a86-12f9-474f-ac1c-d1b748deaab8",
   "metadata": {},
   "outputs": [],
   "source": [
    "class Car(Vehicle):\n",
    "    def display_info(self):\n",
    "        print(\"This is a car.\")\n"
   ]
  },
  {
   "cell_type": "code",
   "execution_count": 5,
   "id": "ff47cb8f-5c74-4345-b5e2-71fdf6200fa5",
   "metadata": {},
   "outputs": [
    {
     "name": "stdout",
     "output_type": "stream",
     "text": [
      "This is a vehicle.\n"
     ]
    }
   ],
   "source": [
    "vehicle = Vehicle()\n",
    "vehicle.display_info()"
   ]
  },
  {
   "cell_type": "code",
   "execution_count": 6,
   "id": "94571d53-4332-4faa-b9ff-e003d5cdf99d",
   "metadata": {},
   "outputs": [
    {
     "name": "stdout",
     "output_type": "stream",
     "text": [
      "This is a car.\n"
     ]
    }
   ],
   "source": [
    "car = Car()\n",
    "car.display_info()"
   ]
  },
  {
   "cell_type": "code",
   "execution_count": null,
   "id": "d60b1824-ce42-4c14-b80f-915e2c9fd0e5",
   "metadata": {},
   "outputs": [],
   "source": []
  }
 ],
 "metadata": {
  "kernelspec": {
   "display_name": "Python 3 (ipykernel)",
   "language": "python",
   "name": "python3"
  },
  "language_info": {
   "codemirror_mode": {
    "name": "ipython",
    "version": 3
   },
   "file_extension": ".py",
   "mimetype": "text/x-python",
   "name": "python",
   "nbconvert_exporter": "python",
   "pygments_lexer": "ipython3",
   "version": "3.10.8"
  }
 },
 "nbformat": 4,
 "nbformat_minor": 5
}
